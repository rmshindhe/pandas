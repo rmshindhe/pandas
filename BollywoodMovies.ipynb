{
 "cells": [
  {
   "cell_type": "markdown",
   "metadata": {},
   "source": [
    "Following is the information about the columns (names can vary):\n",
    "\n",
    "• Serial Id of movie\n",
    "\n",
    "• Release date of movie\n",
    "\n",
    "• Release time of movie like Long Weekend (3), Festive Season (1), Holiday Season (2), and Normal (4)\n",
    "\n",
    "• Genre of movie like Romance, Thriller, Action, comedy etc.\n",
    "\n",
    "• Budget of movie in crores\n",
    "\n",
    "• Box office collection of movie in crore\n",
    "\n",
    "• YouTube views of movies trailers\n",
    "\n",
    "• YouTube likes for the movie trailers\n",
    "\n",
    "• YouTube dislikes for the movie trailers"
   ]
  },
  {
   "cell_type": "markdown",
   "metadata": {},
   "source": [
    "## Importing Relevant Libraries"
   ]
  },
  {
   "cell_type": "code",
   "execution_count": 1,
   "metadata": {},
   "outputs": [],
   "source": [
    "import pandas as pd"
   ]
  },
  {
   "cell_type": "markdown",
   "metadata": {},
   "source": [
    "## Reading the Data"
   ]
  },
  {
   "cell_type": "code",
   "execution_count": 2,
   "metadata": {},
   "outputs": [],
   "source": [
    "df1 = pd.read_csv(\"Downloads\\\\Bollywood.csv\",index_col=0)\n",
    "df2 = pd.read_csv(\"Downloads\\\\Bollywood2.csv\",index_col=0)"
   ]
  },
  {
   "cell_type": "code",
   "execution_count": 3,
   "metadata": {},
   "outputs": [
    {
     "data": {
      "text/html": [
       "<div>\n",
       "<style scoped>\n",
       "    .dataframe tbody tr th:only-of-type {\n",
       "        vertical-align: middle;\n",
       "    }\n",
       "\n",
       "    .dataframe tbody tr th {\n",
       "        vertical-align: top;\n",
       "    }\n",
       "\n",
       "    .dataframe thead th {\n",
       "        text-align: right;\n",
       "    }\n",
       "</style>\n",
       "<table border=\"1\" class=\"dataframe\">\n",
       "  <thead>\n",
       "    <tr style=\"text-align: right;\">\n",
       "      <th></th>\n",
       "      <th>RelDate</th>\n",
       "      <th>MovieName</th>\n",
       "      <th>ReleaseTime</th>\n",
       "      <th>Genre</th>\n",
       "      <th>Budget</th>\n",
       "      <th>BoxOfficeCollection</th>\n",
       "      <th>YoutubeViews</th>\n",
       "      <th>YoutubeLikes</th>\n",
       "      <th>YoutubeDislikes</th>\n",
       "      <th>YoutubeLikeDislikes</th>\n",
       "    </tr>\n",
       "    <tr>\n",
       "      <th>No</th>\n",
       "      <th></th>\n",
       "      <th></th>\n",
       "      <th></th>\n",
       "      <th></th>\n",
       "      <th></th>\n",
       "      <th></th>\n",
       "      <th></th>\n",
       "      <th></th>\n",
       "      <th></th>\n",
       "      <th></th>\n",
       "    </tr>\n",
       "  </thead>\n",
       "  <tbody>\n",
       "    <tr>\n",
       "      <td>1</td>\n",
       "      <td>Apr-18-2014</td>\n",
       "      <td>2 States</td>\n",
       "      <td>3</td>\n",
       "      <td>RomanceGenre</td>\n",
       "      <td>36Cr</td>\n",
       "      <td>104</td>\n",
       "      <td>8576361</td>\n",
       "      <td>26622.0</td>\n",
       "      <td>2527.0</td>\n",
       "      <td>29149</td>\n",
       "    </tr>\n",
       "    <tr>\n",
       "      <td>2</td>\n",
       "      <td>Jan-4-2013</td>\n",
       "      <td>Table No. 21</td>\n",
       "      <td>4</td>\n",
       "      <td>Thriller</td>\n",
       "      <td>Cr10</td>\n",
       "      <td>12</td>\n",
       "      <td>1087320</td>\n",
       "      <td>1129.0</td>\n",
       "      <td>137.0</td>\n",
       "      <td>1266</td>\n",
       "    </tr>\n",
       "    <tr>\n",
       "      <td>3</td>\n",
       "      <td>Jul-18-2014</td>\n",
       "      <td>Amit Sahni Ki List</td>\n",
       "      <td>4</td>\n",
       "      <td>ComedyGenre</td>\n",
       "      <td>10Cr</td>\n",
       "      <td>4</td>\n",
       "      <td>572336</td>\n",
       "      <td>586.0</td>\n",
       "      <td>54.0</td>\n",
       "      <td>640</td>\n",
       "    </tr>\n",
       "    <tr>\n",
       "      <td>4</td>\n",
       "      <td>Jan-4-2013</td>\n",
       "      <td>Rajdhani Express</td>\n",
       "      <td>4</td>\n",
       "      <td>DramaGenre</td>\n",
       "      <td>7Cr</td>\n",
       "      <td>383</td>\n",
       "      <td>42626</td>\n",
       "      <td>86.0</td>\n",
       "      <td>19.0</td>\n",
       "      <td>105</td>\n",
       "    </tr>\n",
       "    <tr>\n",
       "      <td>5</td>\n",
       "      <td>Jul-4-2014</td>\n",
       "      <td>Bobby Jasoos</td>\n",
       "      <td>44</td>\n",
       "      <td>ComedyGenre</td>\n",
       "      <td>18Cr</td>\n",
       "      <td>10.8</td>\n",
       "      <td>3113427</td>\n",
       "      <td>4512.0</td>\n",
       "      <td>1224.0</td>\n",
       "      <td>5736</td>\n",
       "    </tr>\n",
       "  </tbody>\n",
       "</table>\n",
       "</div>"
      ],
      "text/plain": [
       "        RelDate           MovieName  ReleaseTime         Genre Budget  \\\n",
       "No                                                                      \n",
       "1   Apr-18-2014            2 States            3  RomanceGenre   36Cr   \n",
       "2    Jan-4-2013        Table No. 21            4     Thriller    Cr10   \n",
       "3   Jul-18-2014  Amit Sahni Ki List            4   ComedyGenre   10Cr   \n",
       "4    Jan-4-2013    Rajdhani Express            4    DramaGenre    7Cr   \n",
       "5    Jul-4-2014        Bobby Jasoos           44   ComedyGenre   18Cr   \n",
       "\n",
       "   BoxOfficeCollection  YoutubeViews  YoutubeLikes  YoutubeDislikes  \\\n",
       "No                                                                    \n",
       "1                  104       8576361       26622.0           2527.0   \n",
       "2                   12       1087320        1129.0            137.0   \n",
       "3                    4        572336         586.0             54.0   \n",
       "4                  383         42626          86.0             19.0   \n",
       "5                 10.8       3113427        4512.0           1224.0   \n",
       "\n",
       "    YoutubeLikeDislikes  \n",
       "No                       \n",
       "1                 29149  \n",
       "2                  1266  \n",
       "3                   640  \n",
       "4                   105  \n",
       "5                  5736  "
      ]
     },
     "execution_count": 3,
     "metadata": {},
     "output_type": "execute_result"
    }
   ],
   "source": [
    "df1.head()"
   ]
  },
  {
   "cell_type": "code",
   "execution_count": 4,
   "metadata": {},
   "outputs": [
    {
     "data": {
      "text/html": [
       "<div>\n",
       "<style scoped>\n",
       "    .dataframe tbody tr th:only-of-type {\n",
       "        vertical-align: middle;\n",
       "    }\n",
       "\n",
       "    .dataframe tbody tr th {\n",
       "        vertical-align: top;\n",
       "    }\n",
       "\n",
       "    .dataframe thead th {\n",
       "        text-align: right;\n",
       "    }\n",
       "</style>\n",
       "<table border=\"1\" class=\"dataframe\">\n",
       "  <thead>\n",
       "    <tr style=\"text-align: right;\">\n",
       "      <th></th>\n",
       "      <th>Release_Date</th>\n",
       "      <th>Movie_Name</th>\n",
       "      <th>Release_Time</th>\n",
       "      <th>Genre</th>\n",
       "      <th>BudgetCr</th>\n",
       "      <th>BoxOfficeCollectionCr</th>\n",
       "      <th>Youtube_Views</th>\n",
       "      <th>Youtube_Likes</th>\n",
       "      <th>Youtube_Dislikes</th>\n",
       "    </tr>\n",
       "    <tr>\n",
       "      <th>Movie_ID</th>\n",
       "      <th></th>\n",
       "      <th></th>\n",
       "      <th></th>\n",
       "      <th></th>\n",
       "      <th></th>\n",
       "      <th></th>\n",
       "      <th></th>\n",
       "      <th></th>\n",
       "      <th></th>\n",
       "    </tr>\n",
       "  </thead>\n",
       "  <tbody>\n",
       "    <tr>\n",
       "      <td>51</td>\n",
       "      <td>4-Jul-14</td>\n",
       "      <td>Lekar Hum Deewana Dil</td>\n",
       "      <td>N</td>\n",
       "      <td>Romance</td>\n",
       "      <td>16</td>\n",
       "      <td>2.50</td>\n",
       "      <td>3998331</td>\n",
       "      <td>2307</td>\n",
       "      <td>497</td>\n",
       "    </tr>\n",
       "    <tr>\n",
       "      <td>52</td>\n",
       "      <td>22-Mar-13</td>\n",
       "      <td>Aatma</td>\n",
       "      <td>N</td>\n",
       "      <td>Thriller</td>\n",
       "      <td>8</td>\n",
       "      <td>8.78</td>\n",
       "      <td>841891</td>\n",
       "      <td>997</td>\n",
       "      <td>306</td>\n",
       "    </tr>\n",
       "    <tr>\n",
       "      <td>53</td>\n",
       "      <td>4-Apr-14</td>\n",
       "      <td>Main Tera Hero</td>\n",
       "      <td>LW</td>\n",
       "      <td>Comedy</td>\n",
       "      <td>40</td>\n",
       "      <td>55.00</td>\n",
       "      <td>4903941</td>\n",
       "      <td>12657</td>\n",
       "      <td>2139</td>\n",
       "    </tr>\n",
       "    <tr>\n",
       "      <td>54</td>\n",
       "      <td>22-Mar-13</td>\n",
       "      <td>Sona Spa</td>\n",
       "      <td>N</td>\n",
       "      <td>Thriller</td>\n",
       "      <td>10</td>\n",
       "      <td>0.24</td>\n",
       "      <td>79430</td>\n",
       "      <td>61</td>\n",
       "      <td>112</td>\n",
       "    </tr>\n",
       "    <tr>\n",
       "      <td>55</td>\n",
       "      <td>29-Mar-13</td>\n",
       "      <td>Himmatwala</td>\n",
       "      <td>N</td>\n",
       "      <td>Action</td>\n",
       "      <td>50</td>\n",
       "      <td>100.00</td>\n",
       "      <td>2501277</td>\n",
       "      <td>1</td>\n",
       "      <td>1</td>\n",
       "    </tr>\n",
       "  </tbody>\n",
       "</table>\n",
       "</div>"
      ],
      "text/plain": [
       "         Release_Date             Movie_Name Release_Time     Genre  BudgetCr  \\\n",
       "Movie_ID                                                                        \n",
       "51           4-Jul-14  Lekar Hum Deewana Dil            N   Romance        16   \n",
       "52          22-Mar-13                  Aatma            N  Thriller         8   \n",
       "53           4-Apr-14         Main Tera Hero           LW    Comedy        40   \n",
       "54          22-Mar-13               Sona Spa            N  Thriller        10   \n",
       "55          29-Mar-13             Himmatwala            N    Action        50   \n",
       "\n",
       "          BoxOfficeCollectionCr  Youtube_Views  Youtube_Likes  \\\n",
       "Movie_ID                                                        \n",
       "51                         2.50        3998331           2307   \n",
       "52                         8.78         841891            997   \n",
       "53                        55.00        4903941          12657   \n",
       "54                         0.24          79430             61   \n",
       "55                       100.00        2501277              1   \n",
       "\n",
       "          Youtube_Dislikes  \n",
       "Movie_ID                    \n",
       "51                     497  \n",
       "52                     306  \n",
       "53                    2139  \n",
       "54                     112  \n",
       "55                       1  "
      ]
     },
     "execution_count": 4,
     "metadata": {},
     "output_type": "execute_result"
    }
   ],
   "source": [
    "df2.head()"
   ]
  },
  {
   "cell_type": "code",
   "execution_count": 5,
   "metadata": {},
   "outputs": [
    {
     "data": {
      "text/html": [
       "<div>\n",
       "<style scoped>\n",
       "    .dataframe tbody tr th:only-of-type {\n",
       "        vertical-align: middle;\n",
       "    }\n",
       "\n",
       "    .dataframe tbody tr th {\n",
       "        vertical-align: top;\n",
       "    }\n",
       "\n",
       "    .dataframe thead th {\n",
       "        text-align: right;\n",
       "    }\n",
       "</style>\n",
       "<table border=\"1\" class=\"dataframe\">\n",
       "  <thead>\n",
       "    <tr style=\"text-align: right;\">\n",
       "      <th></th>\n",
       "      <th>ReleaseTime</th>\n",
       "      <th>YoutubeViews</th>\n",
       "      <th>YoutubeLikes</th>\n",
       "      <th>YoutubeDislikes</th>\n",
       "      <th>YoutubeLikeDislikes</th>\n",
       "    </tr>\n",
       "  </thead>\n",
       "  <tbody>\n",
       "    <tr>\n",
       "      <td>count</td>\n",
       "      <td>51.000000</td>\n",
       "      <td>5.100000e+01</td>\n",
       "      <td>50.000000</td>\n",
       "      <td>48.000000</td>\n",
       "      <td>51.000000</td>\n",
       "    </tr>\n",
       "    <tr>\n",
       "      <td>mean</td>\n",
       "      <td>4.137255</td>\n",
       "      <td>3.504813e+06</td>\n",
       "      <td>8779.680000</td>\n",
       "      <td>1326.104167</td>\n",
       "      <td>9872.921569</td>\n",
       "    </tr>\n",
       "    <tr>\n",
       "      <td>std</td>\n",
       "      <td>5.779341</td>\n",
       "      <td>3.547764e+06</td>\n",
       "      <td>15449.317168</td>\n",
       "      <td>2133.718842</td>\n",
       "      <td>17190.943468</td>\n",
       "    </tr>\n",
       "    <tr>\n",
       "      <td>min</td>\n",
       "      <td>1.000000</td>\n",
       "      <td>4.354000e+03</td>\n",
       "      <td>1.000000</td>\n",
       "      <td>1.000000</td>\n",
       "      <td>2.000000</td>\n",
       "    </tr>\n",
       "    <tr>\n",
       "      <td>25%</td>\n",
       "      <td>2.500000</td>\n",
       "      <td>1.059242e+06</td>\n",
       "      <td>1558.500000</td>\n",
       "      <td>170.750000</td>\n",
       "      <td>1683.500000</td>\n",
       "    </tr>\n",
       "    <tr>\n",
       "      <td>50%</td>\n",
       "      <td>4.000000</td>\n",
       "      <td>2.375050e+06</td>\n",
       "      <td>3817.000000</td>\n",
       "      <td>562.000000</td>\n",
       "      <td>3773.000000</td>\n",
       "    </tr>\n",
       "    <tr>\n",
       "      <td>75%</td>\n",
       "      <td>4.000000</td>\n",
       "      <td>5.008115e+06</td>\n",
       "      <td>12063.250000</td>\n",
       "      <td>1657.250000</td>\n",
       "      <td>12991.500000</td>\n",
       "    </tr>\n",
       "    <tr>\n",
       "      <td>max</td>\n",
       "      <td>44.000000</td>\n",
       "      <td>1.898622e+07</td>\n",
       "      <td>101275.000000</td>\n",
       "      <td>10269.000000</td>\n",
       "      <td>111341.000000</td>\n",
       "    </tr>\n",
       "  </tbody>\n",
       "</table>\n",
       "</div>"
      ],
      "text/plain": [
       "       ReleaseTime  YoutubeViews   YoutubeLikes  YoutubeDislikes  \\\n",
       "count    51.000000  5.100000e+01      50.000000        48.000000   \n",
       "mean      4.137255  3.504813e+06    8779.680000      1326.104167   \n",
       "std       5.779341  3.547764e+06   15449.317168      2133.718842   \n",
       "min       1.000000  4.354000e+03       1.000000         1.000000   \n",
       "25%       2.500000  1.059242e+06    1558.500000       170.750000   \n",
       "50%       4.000000  2.375050e+06    3817.000000       562.000000   \n",
       "75%       4.000000  5.008115e+06   12063.250000      1657.250000   \n",
       "max      44.000000  1.898622e+07  101275.000000     10269.000000   \n",
       "\n",
       "       YoutubeLikeDislikes  \n",
       "count            51.000000  \n",
       "mean           9872.921569  \n",
       "std           17190.943468  \n",
       "min               2.000000  \n",
       "25%            1683.500000  \n",
       "50%            3773.000000  \n",
       "75%           12991.500000  \n",
       "max          111341.000000  "
      ]
     },
     "execution_count": 5,
     "metadata": {},
     "output_type": "execute_result"
    }
   ],
   "source": [
    "df1.describe()"
   ]
  },
  {
   "cell_type": "markdown",
   "metadata": {},
   "source": [
    "#### By above description we found in row '5' and column  'ReleaseTime'  the values is 44 which is mis-recorded. Replacing it with 4"
   ]
  },
  {
   "cell_type": "code",
   "execution_count": 6,
   "metadata": {},
   "outputs": [],
   "source": [
    "df1.loc[5,\"ReleaseTime\"] = 4"
   ]
  },
  {
   "cell_type": "markdown",
   "metadata": {},
   "source": [
    "#### In df1 one column is more than df2, so we are droping it as it doesnt contain meaningfull information for analysis"
   ]
  },
  {
   "cell_type": "code",
   "execution_count": 7,
   "metadata": {},
   "outputs": [],
   "source": [
    "df1 = df1.drop(\"YoutubeLikeDislikes\",axis = 1)"
   ]
  },
  {
   "cell_type": "markdown",
   "metadata": {},
   "source": [
    "#### As we can see the Release time in df1 & df2 are diffrent so we converting it to one type Long Weekend (3), Festive Season (1), Holiday Season (2), and Normal (4)"
   ]
  },
  {
   "cell_type": "code",
   "execution_count": 8,
   "metadata": {},
   "outputs": [],
   "source": [
    "df1[\"ReleaseTime\"] = df1[\"ReleaseTime\"].map({1:\"FS\",2:\"HS\",3:\"LW\",4:\"N\"})"
   ]
  },
  {
   "cell_type": "markdown",
   "metadata": {},
   "source": [
    "#### Since the column names of both dataframes are diffrent we can't concatinate properly. So Renaming  the column names."
   ]
  },
  {
   "cell_type": "code",
   "execution_count": 9,
   "metadata": {},
   "outputs": [
    {
     "data": {
      "text/plain": [
       "[Int64Index([ 1,  2,  3,  4,  5,  6,  7,  8,  9, 10, 11, 12, 13, 14, 15, 16, 17,\n",
       "             18, 19, 20, 21, 22, 23, 24, 25, 26, 27, 28, 29, 30, 31, 32, 33, 34,\n",
       "             35, 36, 37, 38, 39, 40, 41, 42, 43, 44, 45, 46, 47, 48, 49, 50,\n",
       "             51],\n",
       "            dtype='int64', name='No'),\n",
       " Index(['RelDate', 'MovieName', 'ReleaseTime', 'Genre', 'Budget',\n",
       "        'BoxOfficeCollection', 'YoutubeViews', 'YoutubeLikes',\n",
       "        'YoutubeDislikes'],\n",
       "       dtype='object')]"
      ]
     },
     "execution_count": 9,
     "metadata": {},
     "output_type": "execute_result"
    }
   ],
   "source": [
    "df1.axes"
   ]
  },
  {
   "cell_type": "code",
   "execution_count": 10,
   "metadata": {},
   "outputs": [],
   "source": [
    "df2.columns = ['ReleaseDate', 'MovieName', 'ReleaseTime', 'Genre', 'Budget',\n",
    "        'BoxOfficeCollection', 'YoutubeViews', 'YoutubeLikes',\n",
    "        'YoutubeDislikes']"
   ]
  },
  {
   "cell_type": "code",
   "execution_count": 11,
   "metadata": {},
   "outputs": [],
   "source": [
    "df1.columns = ['ReleaseDate', 'MovieName', 'ReleaseTime', 'Genre', 'Budget',\n",
    "        'BoxOfficeCollection', 'YoutubeViews', 'YoutubeLikes',\n",
    "        'YoutubeDislikes']"
   ]
  },
  {
   "cell_type": "markdown",
   "metadata": {},
   "source": [
    "## 1. Identify and rectify the eight prominent data quality issues present in the given datasets."
   ]
  },
  {
   "cell_type": "code",
   "execution_count": 12,
   "metadata": {},
   "outputs": [],
   "source": [
    "df =  pd.concat([df1,df2])"
   ]
  },
  {
   "cell_type": "code",
   "execution_count": 13,
   "metadata": {
    "scrolled": true
   },
   "outputs": [
    {
     "data": {
      "text/html": [
       "<div>\n",
       "<style scoped>\n",
       "    .dataframe tbody tr th:only-of-type {\n",
       "        vertical-align: middle;\n",
       "    }\n",
       "\n",
       "    .dataframe tbody tr th {\n",
       "        vertical-align: top;\n",
       "    }\n",
       "\n",
       "    .dataframe thead th {\n",
       "        text-align: right;\n",
       "    }\n",
       "</style>\n",
       "<table border=\"1\" class=\"dataframe\">\n",
       "  <thead>\n",
       "    <tr style=\"text-align: right;\">\n",
       "      <th></th>\n",
       "      <th>ReleaseDate</th>\n",
       "      <th>MovieName</th>\n",
       "      <th>ReleaseTime</th>\n",
       "      <th>Genre</th>\n",
       "      <th>Budget</th>\n",
       "      <th>BoxOfficeCollection</th>\n",
       "      <th>YoutubeViews</th>\n",
       "      <th>YoutubeLikes</th>\n",
       "      <th>YoutubeDislikes</th>\n",
       "    </tr>\n",
       "  </thead>\n",
       "  <tbody>\n",
       "    <tr>\n",
       "      <td>1</td>\n",
       "      <td>Apr-18-2014</td>\n",
       "      <td>2 States</td>\n",
       "      <td>LW</td>\n",
       "      <td>RomanceGenre</td>\n",
       "      <td>36Cr</td>\n",
       "      <td>104</td>\n",
       "      <td>8576361</td>\n",
       "      <td>26622.0</td>\n",
       "      <td>2527.0</td>\n",
       "    </tr>\n",
       "    <tr>\n",
       "      <td>2</td>\n",
       "      <td>Jan-4-2013</td>\n",
       "      <td>Table No. 21</td>\n",
       "      <td>N</td>\n",
       "      <td>Thriller</td>\n",
       "      <td>Cr10</td>\n",
       "      <td>12</td>\n",
       "      <td>1087320</td>\n",
       "      <td>1129.0</td>\n",
       "      <td>137.0</td>\n",
       "    </tr>\n",
       "    <tr>\n",
       "      <td>3</td>\n",
       "      <td>Jul-18-2014</td>\n",
       "      <td>Amit Sahni Ki List</td>\n",
       "      <td>N</td>\n",
       "      <td>ComedyGenre</td>\n",
       "      <td>10Cr</td>\n",
       "      <td>4</td>\n",
       "      <td>572336</td>\n",
       "      <td>586.0</td>\n",
       "      <td>54.0</td>\n",
       "    </tr>\n",
       "    <tr>\n",
       "      <td>4</td>\n",
       "      <td>Jan-4-2013</td>\n",
       "      <td>Rajdhani Express</td>\n",
       "      <td>N</td>\n",
       "      <td>DramaGenre</td>\n",
       "      <td>7Cr</td>\n",
       "      <td>383</td>\n",
       "      <td>42626</td>\n",
       "      <td>86.0</td>\n",
       "      <td>19.0</td>\n",
       "    </tr>\n",
       "    <tr>\n",
       "      <td>5</td>\n",
       "      <td>Jul-4-2014</td>\n",
       "      <td>Bobby Jasoos</td>\n",
       "      <td>N</td>\n",
       "      <td>ComedyGenre</td>\n",
       "      <td>18Cr</td>\n",
       "      <td>10.8</td>\n",
       "      <td>3113427</td>\n",
       "      <td>4512.0</td>\n",
       "      <td>1224.0</td>\n",
       "    </tr>\n",
       "  </tbody>\n",
       "</table>\n",
       "</div>"
      ],
      "text/plain": [
       "   ReleaseDate           MovieName ReleaseTime         Genre Budget  \\\n",
       "1  Apr-18-2014            2 States          LW  RomanceGenre   36Cr   \n",
       "2   Jan-4-2013        Table No. 21           N     Thriller    Cr10   \n",
       "3  Jul-18-2014  Amit Sahni Ki List           N   ComedyGenre   10Cr   \n",
       "4   Jan-4-2013    Rajdhani Express           N    DramaGenre    7Cr   \n",
       "5   Jul-4-2014        Bobby Jasoos           N   ComedyGenre   18Cr   \n",
       "\n",
       "  BoxOfficeCollection  YoutubeViews  YoutubeLikes  YoutubeDislikes  \n",
       "1                 104       8576361       26622.0           2527.0  \n",
       "2                  12       1087320        1129.0            137.0  \n",
       "3                   4        572336         586.0             54.0  \n",
       "4                 383         42626          86.0             19.0  \n",
       "5                10.8       3113427        4512.0           1224.0  "
      ]
     },
     "execution_count": 13,
     "metadata": {},
     "output_type": "execute_result"
    }
   ],
   "source": [
    "df.head()"
   ]
  },
  {
   "cell_type": "markdown",
   "metadata": {},
   "source": [
    "#### Re-naming the values of ReleaseTime"
   ]
  },
  {
   "cell_type": "code",
   "execution_count": 14,
   "metadata": {},
   "outputs": [],
   "source": [
    "df[\"ReleaseTime\"] = df[\"ReleaseTime\"].map({\"FS\":\"Festive Season\",\"HS\":\"Holiday Season\",\"LW\":\"Long Weekend\",\"N\":\"Normal\"})"
   ]
  },
  {
   "cell_type": "code",
   "execution_count": 15,
   "metadata": {},
   "outputs": [
    {
     "name": "stdout",
     "output_type": "stream",
     "text": [
      "<class 'pandas.core.frame.DataFrame'>\n",
      "Int64Index: 150 entries, 1 to 149\n",
      "Data columns (total 9 columns):\n",
      "ReleaseDate            150 non-null object\n",
      "MovieName              150 non-null object\n",
      "ReleaseTime            150 non-null object\n",
      "Genre                  150 non-null object\n",
      "Budget                 150 non-null object\n",
      "BoxOfficeCollection    150 non-null object\n",
      "YoutubeViews           150 non-null int64\n",
      "YoutubeLikes           149 non-null float64\n",
      "YoutubeDislikes        147 non-null float64\n",
      "dtypes: float64(2), int64(1), object(6)\n",
      "memory usage: 11.7+ KB\n"
     ]
    }
   ],
   "source": [
    "df.info()"
   ]
  },
  {
   "cell_type": "markdown",
   "metadata": {},
   "source": [
    "#### There are null values present in  YoutubeLikes And Dislikes but they are no use as per our problem statements, So we are removing it."
   ]
  },
  {
   "cell_type": "code",
   "execution_count": 16,
   "metadata": {},
   "outputs": [
    {
     "data": {
      "text/html": [
       "<div>\n",
       "<style scoped>\n",
       "    .dataframe tbody tr th:only-of-type {\n",
       "        vertical-align: middle;\n",
       "    }\n",
       "\n",
       "    .dataframe tbody tr th {\n",
       "        vertical-align: top;\n",
       "    }\n",
       "\n",
       "    .dataframe thead th {\n",
       "        text-align: right;\n",
       "    }\n",
       "</style>\n",
       "<table border=\"1\" class=\"dataframe\">\n",
       "  <thead>\n",
       "    <tr style=\"text-align: right;\">\n",
       "      <th></th>\n",
       "      <th>ReleaseDate</th>\n",
       "      <th>MovieName</th>\n",
       "      <th>ReleaseTime</th>\n",
       "      <th>Genre</th>\n",
       "      <th>Budget</th>\n",
       "      <th>BoxOfficeCollection</th>\n",
       "      <th>YoutubeViews</th>\n",
       "    </tr>\n",
       "  </thead>\n",
       "  <tbody>\n",
       "    <tr>\n",
       "      <td>1</td>\n",
       "      <td>Apr-18-2014</td>\n",
       "      <td>2 States</td>\n",
       "      <td>Long Weekend</td>\n",
       "      <td>RomanceGenre</td>\n",
       "      <td>36Cr</td>\n",
       "      <td>104</td>\n",
       "      <td>8576361</td>\n",
       "    </tr>\n",
       "    <tr>\n",
       "      <td>2</td>\n",
       "      <td>Jan-4-2013</td>\n",
       "      <td>Table No. 21</td>\n",
       "      <td>Normal</td>\n",
       "      <td>Thriller</td>\n",
       "      <td>Cr10</td>\n",
       "      <td>12</td>\n",
       "      <td>1087320</td>\n",
       "    </tr>\n",
       "    <tr>\n",
       "      <td>3</td>\n",
       "      <td>Jul-18-2014</td>\n",
       "      <td>Amit Sahni Ki List</td>\n",
       "      <td>Normal</td>\n",
       "      <td>ComedyGenre</td>\n",
       "      <td>10Cr</td>\n",
       "      <td>4</td>\n",
       "      <td>572336</td>\n",
       "    </tr>\n",
       "    <tr>\n",
       "      <td>4</td>\n",
       "      <td>Jan-4-2013</td>\n",
       "      <td>Rajdhani Express</td>\n",
       "      <td>Normal</td>\n",
       "      <td>DramaGenre</td>\n",
       "      <td>7Cr</td>\n",
       "      <td>383</td>\n",
       "      <td>42626</td>\n",
       "    </tr>\n",
       "    <tr>\n",
       "      <td>5</td>\n",
       "      <td>Jul-4-2014</td>\n",
       "      <td>Bobby Jasoos</td>\n",
       "      <td>Normal</td>\n",
       "      <td>ComedyGenre</td>\n",
       "      <td>18Cr</td>\n",
       "      <td>10.8</td>\n",
       "      <td>3113427</td>\n",
       "    </tr>\n",
       "  </tbody>\n",
       "</table>\n",
       "</div>"
      ],
      "text/plain": [
       "   ReleaseDate           MovieName   ReleaseTime         Genre Budget  \\\n",
       "1  Apr-18-2014            2 States  Long Weekend  RomanceGenre   36Cr   \n",
       "2   Jan-4-2013        Table No. 21        Normal     Thriller    Cr10   \n",
       "3  Jul-18-2014  Amit Sahni Ki List        Normal   ComedyGenre   10Cr   \n",
       "4   Jan-4-2013    Rajdhani Express        Normal    DramaGenre    7Cr   \n",
       "5   Jul-4-2014        Bobby Jasoos        Normal   ComedyGenre   18Cr   \n",
       "\n",
       "  BoxOfficeCollection  YoutubeViews  \n",
       "1                 104       8576361  \n",
       "2                  12       1087320  \n",
       "3                   4        572336  \n",
       "4                 383         42626  \n",
       "5                10.8       3113427  "
      ]
     },
     "execution_count": 16,
     "metadata": {},
     "output_type": "execute_result"
    }
   ],
   "source": [
    "df.drop([\"YoutubeLikes\",\"YoutubeDislikes\"],axis = 1, inplace = True)\n",
    "df.head()"
   ]
  },
  {
   "cell_type": "code",
   "execution_count": 17,
   "metadata": {},
   "outputs": [],
   "source": [
    "df.reset_index(inplace=True)"
   ]
  },
  {
   "cell_type": "markdown",
   "metadata": {},
   "source": [
    "#### While converting date object to  pandas Timestamp  object we encountered error of unknown string format. Rectified the mis-spelled values"
   ]
  },
  {
   "cell_type": "markdown",
   "metadata": {},
   "source": [
    "I have kept the error lines and commented them just to show how i traced the misspelled values, u may keep them or u can remove as per your convienience"
   ]
  },
  {
   "cell_type": "code",
   "execution_count": 18,
   "metadata": {},
   "outputs": [],
   "source": [
    "#df['ReleaseDate']=pd.to_datetime(df['ReleaseDate'])"
   ]
  },
  {
   "cell_type": "code",
   "execution_count": 19,
   "metadata": {},
   "outputs": [
    {
     "data": {
      "text/html": [
       "<div>\n",
       "<style scoped>\n",
       "    .dataframe tbody tr th:only-of-type {\n",
       "        vertical-align: middle;\n",
       "    }\n",
       "\n",
       "    .dataframe tbody tr th {\n",
       "        vertical-align: top;\n",
       "    }\n",
       "\n",
       "    .dataframe thead th {\n",
       "        text-align: right;\n",
       "    }\n",
       "</style>\n",
       "<table border=\"1\" class=\"dataframe\">\n",
       "  <thead>\n",
       "    <tr style=\"text-align: right;\">\n",
       "      <th></th>\n",
       "      <th>index</th>\n",
       "      <th>ReleaseDate</th>\n",
       "      <th>MovieName</th>\n",
       "      <th>ReleaseTime</th>\n",
       "      <th>Genre</th>\n",
       "      <th>Budget</th>\n",
       "      <th>BoxOfficeCollection</th>\n",
       "      <th>YoutubeViews</th>\n",
       "    </tr>\n",
       "  </thead>\n",
       "  <tbody>\n",
       "    <tr>\n",
       "      <td>6</td>\n",
       "      <td>7</td>\n",
       "      <td>Sqp-19-2014</td>\n",
       "      <td>Daawat-E-Ishq</td>\n",
       "      <td>Normal</td>\n",
       "      <td>ComedyGenre</td>\n",
       "      <td>30Cr</td>\n",
       "      <td>24.6</td>\n",
       "      <td>3905050</td>\n",
       "    </tr>\n",
       "  </tbody>\n",
       "</table>\n",
       "</div>"
      ],
      "text/plain": [
       "   index  ReleaseDate      MovieName ReleaseTime        Genre Budget  \\\n",
       "6      7  Sqp-19-2014  Daawat-E-Ishq      Normal  ComedyGenre   30Cr   \n",
       "\n",
       "  BoxOfficeCollection  YoutubeViews  \n",
       "6                24.6       3905050  "
      ]
     },
     "execution_count": 19,
     "metadata": {},
     "output_type": "execute_result"
    }
   ],
   "source": [
    "df[df['ReleaseDate'].isin(['Sqp-19-2014'])]"
   ]
  },
  {
   "cell_type": "code",
   "execution_count": 20,
   "metadata": {},
   "outputs": [
    {
     "name": "stderr",
     "output_type": "stream",
     "text": [
      "C:\\Anaconda3\\lib\\site-packages\\ipykernel_launcher.py:1: FutureWarning: \n",
      ".ix is deprecated. Please use\n",
      ".loc for label based indexing or\n",
      ".iloc for positional indexing\n",
      "\n",
      "See the documentation here:\n",
      "http://pandas.pydata.org/pandas-docs/stable/user_guide/indexing.html#ix-indexer-is-deprecated\n",
      "  \"\"\"Entry point for launching an IPython kernel.\n"
     ]
    }
   ],
   "source": [
    "df.ix[6,'ReleaseDate'] = \"Sep-19-2014\""
   ]
  },
  {
   "cell_type": "code",
   "execution_count": 21,
   "metadata": {},
   "outputs": [],
   "source": [
    "#df['ReleaseDate']=pd.to_datetime(df['ReleaseDate'])"
   ]
  },
  {
   "cell_type": "code",
   "execution_count": 22,
   "metadata": {},
   "outputs": [
    {
     "data": {
      "text/html": [
       "<div>\n",
       "<style scoped>\n",
       "    .dataframe tbody tr th:only-of-type {\n",
       "        vertical-align: middle;\n",
       "    }\n",
       "\n",
       "    .dataframe tbody tr th {\n",
       "        vertical-align: top;\n",
       "    }\n",
       "\n",
       "    .dataframe thead th {\n",
       "        text-align: right;\n",
       "    }\n",
       "</style>\n",
       "<table border=\"1\" class=\"dataframe\">\n",
       "  <thead>\n",
       "    <tr style=\"text-align: right;\">\n",
       "      <th></th>\n",
       "      <th>index</th>\n",
       "      <th>ReleaseDate</th>\n",
       "      <th>MovieName</th>\n",
       "      <th>ReleaseTime</th>\n",
       "      <th>Genre</th>\n",
       "      <th>Budget</th>\n",
       "      <th>BoxOfficeCollection</th>\n",
       "      <th>YoutubeViews</th>\n",
       "    </tr>\n",
       "  </thead>\n",
       "  <tbody>\n",
       "    <tr>\n",
       "      <td>12</td>\n",
       "      <td>13</td>\n",
       "      <td>Jum-27-2014</td>\n",
       "      <td>Ek Villain</td>\n",
       "      <td>Holiday Season</td>\n",
       "      <td>RomanceGenre</td>\n",
       "      <td>35Cr</td>\n",
       "      <td>105.5</td>\n",
       "      <td>4518748</td>\n",
       "    </tr>\n",
       "  </tbody>\n",
       "</table>\n",
       "</div>"
      ],
      "text/plain": [
       "    index  ReleaseDate   MovieName     ReleaseTime         Genre Budget  \\\n",
       "12     13  Jum-27-2014  Ek Villain  Holiday Season  RomanceGenre   35Cr   \n",
       "\n",
       "   BoxOfficeCollection  YoutubeViews  \n",
       "12               105.5       4518748  "
      ]
     },
     "execution_count": 22,
     "metadata": {},
     "output_type": "execute_result"
    }
   ],
   "source": [
    "df[df['ReleaseDate'].isin(['Jum-27-2014'])]"
   ]
  },
  {
   "cell_type": "code",
   "execution_count": 23,
   "metadata": {},
   "outputs": [
    {
     "name": "stderr",
     "output_type": "stream",
     "text": [
      "C:\\Anaconda3\\lib\\site-packages\\ipykernel_launcher.py:1: FutureWarning: \n",
      ".ix is deprecated. Please use\n",
      ".loc for label based indexing or\n",
      ".iloc for positional indexing\n",
      "\n",
      "See the documentation here:\n",
      "http://pandas.pydata.org/pandas-docs/stable/user_guide/indexing.html#ix-indexer-is-deprecated\n",
      "  \"\"\"Entry point for launching an IPython kernel.\n"
     ]
    }
   ],
   "source": [
    "df.ix[12,'ReleaseDate'] = \"Jun-27-2014\""
   ]
  },
  {
   "cell_type": "code",
   "execution_count": 24,
   "metadata": {},
   "outputs": [],
   "source": [
    "#df['ReleaseDate']=pd.to_datetime(df['ReleaseDate'])"
   ]
  },
  {
   "cell_type": "code",
   "execution_count": 25,
   "metadata": {},
   "outputs": [
    {
     "data": {
      "text/html": [
       "<div>\n",
       "<style scoped>\n",
       "    .dataframe tbody tr th:only-of-type {\n",
       "        vertical-align: middle;\n",
       "    }\n",
       "\n",
       "    .dataframe tbody tr th {\n",
       "        vertical-align: top;\n",
       "    }\n",
       "\n",
       "    .dataframe thead th {\n",
       "        text-align: right;\n",
       "    }\n",
       "</style>\n",
       "<table border=\"1\" class=\"dataframe\">\n",
       "  <thead>\n",
       "    <tr style=\"text-align: right;\">\n",
       "      <th></th>\n",
       "      <th>index</th>\n",
       "      <th>ReleaseDate</th>\n",
       "      <th>MovieName</th>\n",
       "      <th>ReleaseTime</th>\n",
       "      <th>Genre</th>\n",
       "      <th>Budget</th>\n",
       "      <th>BoxOfficeCollection</th>\n",
       "      <th>YoutubeViews</th>\n",
       "    </tr>\n",
       "  </thead>\n",
       "  <tbody>\n",
       "    <tr>\n",
       "      <td>17</td>\n",
       "      <td>18</td>\n",
       "      <td>juu-6-2014</td>\n",
       "      <td>Filmistaan</td>\n",
       "      <td>Holiday Season</td>\n",
       "      <td>ComedyGenre</td>\n",
       "      <td>10Cr</td>\n",
       "      <td>6</td>\n",
       "      <td>989096</td>\n",
       "    </tr>\n",
       "  </tbody>\n",
       "</table>\n",
       "</div>"
      ],
      "text/plain": [
       "    index ReleaseDate   MovieName     ReleaseTime        Genre Budget  \\\n",
       "17     18  juu-6-2014  Filmistaan  Holiday Season  ComedyGenre   10Cr   \n",
       "\n",
       "   BoxOfficeCollection  YoutubeViews  \n",
       "17                   6        989096  "
      ]
     },
     "execution_count": 25,
     "metadata": {},
     "output_type": "execute_result"
    }
   ],
   "source": [
    "df[df['ReleaseDate'].isin(['juu-6-2014'])]"
   ]
  },
  {
   "cell_type": "code",
   "execution_count": 26,
   "metadata": {},
   "outputs": [
    {
     "name": "stderr",
     "output_type": "stream",
     "text": [
      "C:\\Anaconda3\\lib\\site-packages\\ipykernel_launcher.py:1: FutureWarning: \n",
      ".ix is deprecated. Please use\n",
      ".loc for label based indexing or\n",
      ".iloc for positional indexing\n",
      "\n",
      "See the documentation here:\n",
      "http://pandas.pydata.org/pandas-docs/stable/user_guide/indexing.html#ix-indexer-is-deprecated\n",
      "  \"\"\"Entry point for launching an IPython kernel.\n"
     ]
    }
   ],
   "source": [
    "df.ix[17,'ReleaseDate'] = 'jun-6-2014'"
   ]
  },
  {
   "cell_type": "code",
   "execution_count": 27,
   "metadata": {},
   "outputs": [],
   "source": [
    "#df['ReleaseDate']=pd.to_datetime(df['ReleaseDate'])"
   ]
  },
  {
   "cell_type": "code",
   "execution_count": 28,
   "metadata": {},
   "outputs": [
    {
     "data": {
      "text/html": [
       "<div>\n",
       "<style scoped>\n",
       "    .dataframe tbody tr th:only-of-type {\n",
       "        vertical-align: middle;\n",
       "    }\n",
       "\n",
       "    .dataframe tbody tr th {\n",
       "        vertical-align: top;\n",
       "    }\n",
       "\n",
       "    .dataframe thead th {\n",
       "        text-align: right;\n",
       "    }\n",
       "</style>\n",
       "<table border=\"1\" class=\"dataframe\">\n",
       "  <thead>\n",
       "    <tr style=\"text-align: right;\">\n",
       "      <th></th>\n",
       "      <th>index</th>\n",
       "      <th>ReleaseDate</th>\n",
       "      <th>MovieName</th>\n",
       "      <th>ReleaseTime</th>\n",
       "      <th>Genre</th>\n",
       "      <th>Budget</th>\n",
       "      <th>BoxOfficeCollection</th>\n",
       "      <th>YoutubeViews</th>\n",
       "    </tr>\n",
       "  </thead>\n",
       "  <tbody>\n",
       "    <tr>\n",
       "      <td>34</td>\n",
       "      <td>35</td>\n",
       "      <td>Feb-21-204</td>\n",
       "      <td>Highway</td>\n",
       "      <td>Normal</td>\n",
       "      <td>Drama</td>\n",
       "      <td>30Cr</td>\n",
       "      <td>27.25</td>\n",
       "      <td>3043012</td>\n",
       "    </tr>\n",
       "  </tbody>\n",
       "</table>\n",
       "</div>"
      ],
      "text/plain": [
       "    index ReleaseDate MovieName ReleaseTime    Genre Budget  \\\n",
       "34     35  Feb-21-204   Highway      Normal   Drama    30Cr   \n",
       "\n",
       "   BoxOfficeCollection  YoutubeViews  \n",
       "34               27.25       3043012  "
      ]
     },
     "execution_count": 28,
     "metadata": {},
     "output_type": "execute_result"
    }
   ],
   "source": [
    "df[df['ReleaseDate'].isin(['Feb-21-204'])]"
   ]
  },
  {
   "cell_type": "code",
   "execution_count": 29,
   "metadata": {},
   "outputs": [
    {
     "name": "stderr",
     "output_type": "stream",
     "text": [
      "C:\\Anaconda3\\lib\\site-packages\\ipykernel_launcher.py:1: FutureWarning: \n",
      ".ix is deprecated. Please use\n",
      ".loc for label based indexing or\n",
      ".iloc for positional indexing\n",
      "\n",
      "See the documentation here:\n",
      "http://pandas.pydata.org/pandas-docs/stable/user_guide/indexing.html#ix-indexer-is-deprecated\n",
      "  \"\"\"Entry point for launching an IPython kernel.\n"
     ]
    }
   ],
   "source": [
    "df.ix[34,'ReleaseDate'] = \"Feb-21-2014\""
   ]
  },
  {
   "cell_type": "code",
   "execution_count": 30,
   "metadata": {},
   "outputs": [],
   "source": [
    "df['ReleaseDate']=pd.to_datetime(df['ReleaseDate'])"
   ]
  },
  {
   "cell_type": "code",
   "execution_count": 31,
   "metadata": {},
   "outputs": [],
   "source": [
    "df[\"ReleaseTime\"] = df[\"ReleaseTime\"].astype(\"category\")"
   ]
  },
  {
   "cell_type": "code",
   "execution_count": 32,
   "metadata": {},
   "outputs": [],
   "source": [
    "df[\"Genre\"] = df[\"Genre\"].astype(\"category\")"
   ]
  },
  {
   "cell_type": "markdown",
   "metadata": {},
   "source": [
    "#### The 'BoxOfficeCollection' and 'Budget' contain the integer with string value which is an obstacle for calcualtion so seperating them throgh regular expression"
   ]
  },
  {
   "cell_type": "code",
   "execution_count": 33,
   "metadata": {},
   "outputs": [],
   "source": [
    "import re"
   ]
  },
  {
   "cell_type": "code",
   "execution_count": 34,
   "metadata": {},
   "outputs": [],
   "source": [
    "def preprocess(x):\n",
    "    x = re.sub(r\"[a-zA-Z]+\",\" \",str(x))\n",
    "    return x\n",
    "df[\"Budget\"] = df[\"Budget\"].apply(preprocess)"
   ]
  },
  {
   "cell_type": "code",
   "execution_count": 35,
   "metadata": {},
   "outputs": [],
   "source": [
    "df[\"BoxOfficeCollection\"] = df[\"BoxOfficeCollection\"].apply(preprocess)"
   ]
  },
  {
   "cell_type": "code",
   "execution_count": 36,
   "metadata": {},
   "outputs": [],
   "source": [
    "df[[\"Budget\",\"BoxOfficeCollection\"]] = df[[\"Budget\",\"BoxOfficeCollection\"]].astype(\"float\") "
   ]
  },
  {
   "cell_type": "markdown",
   "metadata": {},
   "source": [
    "## 2) How many records are present in the dataset? Print the metadata information of dataset. "
   ]
  },
  {
   "cell_type": "code",
   "execution_count": 37,
   "metadata": {},
   "outputs": [
    {
     "name": "stdout",
     "output_type": "stream",
     "text": [
      "<class 'pandas.core.frame.DataFrame'>\n",
      "RangeIndex: 150 entries, 0 to 149\n",
      "Data columns (total 8 columns):\n",
      "index                  150 non-null int64\n",
      "ReleaseDate            150 non-null datetime64[ns]\n",
      "MovieName              150 non-null object\n",
      "ReleaseTime            150 non-null category\n",
      "Genre                  150 non-null category\n",
      "Budget                 150 non-null float64\n",
      "BoxOfficeCollection    150 non-null float64\n",
      "YoutubeViews           150 non-null int64\n",
      "dtypes: category(2), datetime64[ns](1), float64(2), int64(2), object(1)\n",
      "memory usage: 8.0+ KB\n"
     ]
    }
   ],
   "source": [
    "df.info()"
   ]
  },
  {
   "cell_type": "code",
   "execution_count": 38,
   "metadata": {},
   "outputs": [
    {
     "data": {
      "text/plain": [
       "(150, 8)"
      ]
     },
     "execution_count": 38,
     "metadata": {},
     "output_type": "execute_result"
    }
   ],
   "source": [
    "df.shape"
   ]
  },
  {
   "cell_type": "markdown",
   "metadata": {},
   "source": [
    "## 3. How many movies in each genre got released in different release times?"
   ]
  },
  {
   "cell_type": "code",
   "execution_count": 39,
   "metadata": {},
   "outputs": [
    {
     "data": {
      "text/html": [
       "<div>\n",
       "<style scoped>\n",
       "    .dataframe tbody tr th:only-of-type {\n",
       "        vertical-align: middle;\n",
       "    }\n",
       "\n",
       "    .dataframe tbody tr th {\n",
       "        vertical-align: top;\n",
       "    }\n",
       "\n",
       "    .dataframe thead th {\n",
       "        text-align: right;\n",
       "    }\n",
       "</style>\n",
       "<table border=\"1\" class=\"dataframe\">\n",
       "  <thead>\n",
       "    <tr style=\"text-align: right;\">\n",
       "      <th></th>\n",
       "      <th>index</th>\n",
       "      <th>ReleaseDate</th>\n",
       "      <th>MovieName</th>\n",
       "      <th>ReleaseTime</th>\n",
       "      <th>Genre</th>\n",
       "      <th>Budget</th>\n",
       "      <th>BoxOfficeCollection</th>\n",
       "      <th>YoutubeViews</th>\n",
       "    </tr>\n",
       "  </thead>\n",
       "  <tbody>\n",
       "    <tr>\n",
       "      <td>0</td>\n",
       "      <td>1</td>\n",
       "      <td>2014-04-18</td>\n",
       "      <td>2 States</td>\n",
       "      <td>Long Weekend</td>\n",
       "      <td>RomanceGenre</td>\n",
       "      <td>36.0</td>\n",
       "      <td>104.0</td>\n",
       "      <td>8576361</td>\n",
       "    </tr>\n",
       "    <tr>\n",
       "      <td>1</td>\n",
       "      <td>2</td>\n",
       "      <td>2013-01-04</td>\n",
       "      <td>Table No. 21</td>\n",
       "      <td>Normal</td>\n",
       "      <td>Thriller</td>\n",
       "      <td>10.0</td>\n",
       "      <td>12.0</td>\n",
       "      <td>1087320</td>\n",
       "    </tr>\n",
       "    <tr>\n",
       "      <td>2</td>\n",
       "      <td>3</td>\n",
       "      <td>2014-07-18</td>\n",
       "      <td>Amit Sahni Ki List</td>\n",
       "      <td>Normal</td>\n",
       "      <td>ComedyGenre</td>\n",
       "      <td>10.0</td>\n",
       "      <td>4.0</td>\n",
       "      <td>572336</td>\n",
       "    </tr>\n",
       "    <tr>\n",
       "      <td>3</td>\n",
       "      <td>4</td>\n",
       "      <td>2013-01-04</td>\n",
       "      <td>Rajdhani Express</td>\n",
       "      <td>Normal</td>\n",
       "      <td>DramaGenre</td>\n",
       "      <td>7.0</td>\n",
       "      <td>383.0</td>\n",
       "      <td>42626</td>\n",
       "    </tr>\n",
       "    <tr>\n",
       "      <td>4</td>\n",
       "      <td>5</td>\n",
       "      <td>2014-07-04</td>\n",
       "      <td>Bobby Jasoos</td>\n",
       "      <td>Normal</td>\n",
       "      <td>ComedyGenre</td>\n",
       "      <td>18.0</td>\n",
       "      <td>10.8</td>\n",
       "      <td>3113427</td>\n",
       "    </tr>\n",
       "  </tbody>\n",
       "</table>\n",
       "</div>"
      ],
      "text/plain": [
       "   index ReleaseDate           MovieName   ReleaseTime         Genre  Budget  \\\n",
       "0      1  2014-04-18            2 States  Long Weekend  RomanceGenre    36.0   \n",
       "1      2  2013-01-04        Table No. 21        Normal     Thriller     10.0   \n",
       "2      3  2014-07-18  Amit Sahni Ki List        Normal   ComedyGenre    10.0   \n",
       "3      4  2013-01-04    Rajdhani Express        Normal    DramaGenre     7.0   \n",
       "4      5  2014-07-04        Bobby Jasoos        Normal   ComedyGenre    18.0   \n",
       "\n",
       "   BoxOfficeCollection  YoutubeViews  \n",
       "0                104.0       8576361  \n",
       "1                 12.0       1087320  \n",
       "2                  4.0        572336  \n",
       "3                383.0         42626  \n",
       "4                 10.8       3113427  "
      ]
     },
     "execution_count": 39,
     "metadata": {},
     "output_type": "execute_result"
    }
   ],
   "source": [
    "df.head()"
   ]
  },
  {
   "cell_type": "code",
   "execution_count": 40,
   "metadata": {},
   "outputs": [],
   "source": [
    "movie_genre = df.groupby([\"Genre\",\"ReleaseTime\"])"
   ]
  },
  {
   "cell_type": "code",
   "execution_count": 41,
   "metadata": {},
   "outputs": [
    {
     "data": {
      "text/plain": [
       "Genre         ReleaseTime   \n",
       " Drama        Festive Season     2\n",
       "              Holiday Season     3\n",
       "              Normal            19\n",
       " DramaGenre   Festive Season     2\n",
       "              Holiday Season     3\n",
       "              Long Weekend       1\n",
       "              Normal             5\n",
       "Action        Festive Season     3\n",
       "              Holiday Season     1\n",
       "              Long Weekend       3\n",
       "              Normal             7\n",
       "Action        Normal             1\n",
       "ActionGenre   Holiday Season     2\n",
       "              Normal             7\n",
       "Comedy        Festive Season     3\n",
       "              Holiday Season     2\n",
       "              Long Weekend       4\n",
       "              Normal            15\n",
       "ComedyGenre   Holiday Season     3\n",
       "              Long Weekend       1\n",
       "              Normal             8\n",
       "Romance       Festive Season     3\n",
       "              Holiday Season     1\n",
       "              Long Weekend       3\n",
       "              Normal            10\n",
       "RomanceGenre  Holiday Season     2\n",
       "              Long Weekend       1\n",
       "              Normal             6\n",
       "Thriller      Festive Season     4\n",
       "              Holiday Season     1\n",
       "              Long Weekend       1\n",
       "              Normal            20\n",
       "Thriller      Long Weekend       1\n",
       "              Normal             2\n",
       "dtype: int64"
      ]
     },
     "execution_count": 41,
     "metadata": {},
     "output_type": "execute_result"
    }
   ],
   "source": [
    "movie_genre.size()"
   ]
  },
  {
   "cell_type": "markdown",
   "metadata": {},
   "source": [
    "The above series shows the number of movies released in each Genre at diffrent ReleaseTime."
   ]
  },
  {
   "cell_type": "markdown",
   "metadata": {},
   "source": [
    "## 4. Which month of the year, maximum movie releases are seen?"
   ]
  },
  {
   "cell_type": "code",
   "execution_count": 42,
   "metadata": {},
   "outputs": [
    {
     "data": {
      "text/html": [
       "<div>\n",
       "<style scoped>\n",
       "    .dataframe tbody tr th:only-of-type {\n",
       "        vertical-align: middle;\n",
       "    }\n",
       "\n",
       "    .dataframe tbody tr th {\n",
       "        vertical-align: top;\n",
       "    }\n",
       "\n",
       "    .dataframe thead th {\n",
       "        text-align: right;\n",
       "    }\n",
       "</style>\n",
       "<table border=\"1\" class=\"dataframe\">\n",
       "  <thead>\n",
       "    <tr style=\"text-align: right;\">\n",
       "      <th></th>\n",
       "      <th>index</th>\n",
       "      <th>ReleaseDate</th>\n",
       "      <th>MovieName</th>\n",
       "      <th>ReleaseTime</th>\n",
       "      <th>Genre</th>\n",
       "      <th>Budget</th>\n",
       "      <th>BoxOfficeCollection</th>\n",
       "      <th>YoutubeViews</th>\n",
       "    </tr>\n",
       "  </thead>\n",
       "  <tbody>\n",
       "    <tr>\n",
       "      <td>0</td>\n",
       "      <td>1</td>\n",
       "      <td>2014-04-18</td>\n",
       "      <td>2 States</td>\n",
       "      <td>Long Weekend</td>\n",
       "      <td>RomanceGenre</td>\n",
       "      <td>36.0</td>\n",
       "      <td>104.0</td>\n",
       "      <td>8576361</td>\n",
       "    </tr>\n",
       "    <tr>\n",
       "      <td>1</td>\n",
       "      <td>2</td>\n",
       "      <td>2013-01-04</td>\n",
       "      <td>Table No. 21</td>\n",
       "      <td>Normal</td>\n",
       "      <td>Thriller</td>\n",
       "      <td>10.0</td>\n",
       "      <td>12.0</td>\n",
       "      <td>1087320</td>\n",
       "    </tr>\n",
       "    <tr>\n",
       "      <td>2</td>\n",
       "      <td>3</td>\n",
       "      <td>2014-07-18</td>\n",
       "      <td>Amit Sahni Ki List</td>\n",
       "      <td>Normal</td>\n",
       "      <td>ComedyGenre</td>\n",
       "      <td>10.0</td>\n",
       "      <td>4.0</td>\n",
       "      <td>572336</td>\n",
       "    </tr>\n",
       "    <tr>\n",
       "      <td>3</td>\n",
       "      <td>4</td>\n",
       "      <td>2013-01-04</td>\n",
       "      <td>Rajdhani Express</td>\n",
       "      <td>Normal</td>\n",
       "      <td>DramaGenre</td>\n",
       "      <td>7.0</td>\n",
       "      <td>383.0</td>\n",
       "      <td>42626</td>\n",
       "    </tr>\n",
       "    <tr>\n",
       "      <td>4</td>\n",
       "      <td>5</td>\n",
       "      <td>2014-07-04</td>\n",
       "      <td>Bobby Jasoos</td>\n",
       "      <td>Normal</td>\n",
       "      <td>ComedyGenre</td>\n",
       "      <td>18.0</td>\n",
       "      <td>10.8</td>\n",
       "      <td>3113427</td>\n",
       "    </tr>\n",
       "  </tbody>\n",
       "</table>\n",
       "</div>"
      ],
      "text/plain": [
       "   index ReleaseDate           MovieName   ReleaseTime         Genre  Budget  \\\n",
       "0      1  2014-04-18            2 States  Long Weekend  RomanceGenre    36.0   \n",
       "1      2  2013-01-04        Table No. 21        Normal     Thriller     10.0   \n",
       "2      3  2014-07-18  Amit Sahni Ki List        Normal   ComedyGenre    10.0   \n",
       "3      4  2013-01-04    Rajdhani Express        Normal    DramaGenre     7.0   \n",
       "4      5  2014-07-04        Bobby Jasoos        Normal   ComedyGenre    18.0   \n",
       "\n",
       "   BoxOfficeCollection  YoutubeViews  \n",
       "0                104.0       8576361  \n",
       "1                 12.0       1087320  \n",
       "2                  4.0        572336  \n",
       "3                383.0         42626  \n",
       "4                 10.8       3113427  "
      ]
     },
     "execution_count": 42,
     "metadata": {},
     "output_type": "execute_result"
    }
   ],
   "source": [
    "df.head()"
   ]
  },
  {
   "cell_type": "code",
   "execution_count": 43,
   "metadata": {},
   "outputs": [
    {
     "data": {
      "text/plain": [
       "ReleaseDate  ReleaseDate\n",
       "2014         5              12\n",
       "2013         7               9\n",
       "             1               8\n",
       "             3               8\n",
       "2014         7               8\n",
       "             3               8\n",
       "             1               7\n",
       "             4               6\n",
       "2013         2               6\n",
       "             5               6\n",
       "             10              6\n",
       "2014         2               6\n",
       "             6               5\n",
       "2013         11              5\n",
       "2014         9               5\n",
       "2013         9               5\n",
       "             6               5\n",
       "2014         11              5\n",
       "2013         4               5\n",
       "2015         1               5\n",
       "             2               4\n",
       "2014         8               4\n",
       "2013         8               4\n",
       "2014         10              3\n",
       "2015         3               3\n",
       "2014         12              2\n",
       "Name: ReleaseDate, dtype: int64"
      ]
     },
     "execution_count": 43,
     "metadata": {},
     "output_type": "execute_result"
    }
   ],
   "source": [
    "df['ReleaseDate'].groupby([df[\"ReleaseDate\"].dt.year, df[\"ReleaseDate\"].dt.month]).agg('count').sort_values(ascending = False)"
   ]
  },
  {
   "cell_type": "markdown",
   "metadata": {},
   "source": [
    "As shown above, In the year 2014-May maximum number of movies released i.e  12 movies"
   ]
  },
  {
   "cell_type": "markdown",
   "metadata": {},
   "source": [
    "## 5. Which month of the year typically sees most releases of high budgeted movies, that is, movies with budget of 25 crore or more?"
   ]
  },
  {
   "cell_type": "code",
   "execution_count": 44,
   "metadata": {},
   "outputs": [],
   "source": [
    "highbudgetmovies = df[df[\"Budget\"] >= 25]"
   ]
  },
  {
   "cell_type": "code",
   "execution_count": 45,
   "metadata": {},
   "outputs": [
    {
     "data": {
      "text/plain": [
       "ReleaseDate  ReleaseDate\n",
       "2013         7              5\n",
       "2014         3              4\n",
       "2013         9              4\n",
       "2014         4              4\n",
       "2013         8              4\n",
       "2014         2              4\n",
       "2015         1              3\n",
       "2013         2              3\n",
       "2014         11             3\n",
       "             8              3\n",
       "             6              3\n",
       "             1              3\n",
       "2013         11             3\n",
       "             3              2\n",
       "             5              2\n",
       "             6              2\n",
       "             1              2\n",
       "             10             2\n",
       "2015         2              2\n",
       "2014         10             2\n",
       "             12             2\n",
       "             5              1\n",
       "             7              1\n",
       "             9              1\n",
       "2015         3              1\n",
       "Name: ReleaseDate, dtype: int64"
      ]
     },
     "execution_count": 45,
     "metadata": {},
     "output_type": "execute_result"
    }
   ],
   "source": [
    "highbudgetmovies['ReleaseDate'].groupby([highbudgetmovies[\"ReleaseDate\"].dt.year, highbudgetmovies[\"ReleaseDate\"].dt.month]).agg('count').sort_values(ascending = False)"
   ]
  },
  {
   "cell_type": "markdown",
   "metadata": {},
   "source": [
    "As shown above, In the year 2013-July maximum number of movies i.e 5 movies released who's budget is 25Cr or more."
   ]
  },
  {
   "cell_type": "markdown",
   "metadata": {},
   "source": [
    "## 6. Which are the top 10 movies with maximum return of investment (ROI)? Calculate ROI as (Box office collection – Budget) / Budget."
   ]
  },
  {
   "cell_type": "code",
   "execution_count": 46,
   "metadata": {},
   "outputs": [],
   "source": [
    "df[\"ROI\"] = (df[\"BoxOfficeCollection\"] - df[\"Budget\"]) / df[\"Budget\"]"
   ]
  },
  {
   "cell_type": "code",
   "execution_count": 47,
   "metadata": {},
   "outputs": [],
   "source": [
    "Return_of_investment = df.sort_values([\"ROI\"],ascending = False)"
   ]
  },
  {
   "cell_type": "code",
   "execution_count": 48,
   "metadata": {},
   "outputs": [],
   "source": [
    "Return_of_investment.reset_index(inplace=True)"
   ]
  },
  {
   "cell_type": "code",
   "execution_count": 49,
   "metadata": {},
   "outputs": [
    {
     "data": {
      "text/html": [
       "<div>\n",
       "<style scoped>\n",
       "    .dataframe tbody tr th:only-of-type {\n",
       "        vertical-align: middle;\n",
       "    }\n",
       "\n",
       "    .dataframe tbody tr th {\n",
       "        vertical-align: top;\n",
       "    }\n",
       "\n",
       "    .dataframe thead th {\n",
       "        text-align: right;\n",
       "    }\n",
       "</style>\n",
       "<table border=\"1\" class=\"dataframe\">\n",
       "  <thead>\n",
       "    <tr style=\"text-align: right;\">\n",
       "      <th></th>\n",
       "      <th>level_0</th>\n",
       "      <th>index</th>\n",
       "      <th>ReleaseDate</th>\n",
       "      <th>MovieName</th>\n",
       "      <th>ReleaseTime</th>\n",
       "      <th>Genre</th>\n",
       "      <th>Budget</th>\n",
       "      <th>BoxOfficeCollection</th>\n",
       "      <th>YoutubeViews</th>\n",
       "      <th>ROI</th>\n",
       "    </tr>\n",
       "  </thead>\n",
       "  <tbody>\n",
       "    <tr>\n",
       "      <td>0</td>\n",
       "      <td>3</td>\n",
       "      <td>4</td>\n",
       "      <td>2013-01-04</td>\n",
       "      <td>Rajdhani Express</td>\n",
       "      <td>Normal</td>\n",
       "      <td>DramaGenre</td>\n",
       "      <td>7.0</td>\n",
       "      <td>383.0</td>\n",
       "      <td>42626</td>\n",
       "      <td>53.714286</td>\n",
       "    </tr>\n",
       "    <tr>\n",
       "      <td>1</td>\n",
       "      <td>65</td>\n",
       "      <td>65</td>\n",
       "      <td>2013-04-26</td>\n",
       "      <td>Aashiqui 2</td>\n",
       "      <td>Normal</td>\n",
       "      <td>Romance</td>\n",
       "      <td>12.0</td>\n",
       "      <td>110.0</td>\n",
       "      <td>2926673</td>\n",
       "      <td>8.166667</td>\n",
       "    </tr>\n",
       "    <tr>\n",
       "      <td>2</td>\n",
       "      <td>90</td>\n",
       "      <td>90</td>\n",
       "      <td>2014-12-19</td>\n",
       "      <td>PK</td>\n",
       "      <td>Holiday Season</td>\n",
       "      <td>Drama</td>\n",
       "      <td>85.0</td>\n",
       "      <td>735.0</td>\n",
       "      <td>13270623</td>\n",
       "      <td>7.647059</td>\n",
       "    </tr>\n",
       "    <tr>\n",
       "      <td>3</td>\n",
       "      <td>133</td>\n",
       "      <td>133</td>\n",
       "      <td>2013-09-13</td>\n",
       "      <td>Grand Masti</td>\n",
       "      <td>Long Weekend</td>\n",
       "      <td>Comedy</td>\n",
       "      <td>35.0</td>\n",
       "      <td>298.0</td>\n",
       "      <td>1795640</td>\n",
       "      <td>7.514286</td>\n",
       "    </tr>\n",
       "    <tr>\n",
       "      <td>4</td>\n",
       "      <td>136</td>\n",
       "      <td>136</td>\n",
       "      <td>2013-09-20</td>\n",
       "      <td>The Lunchbox</td>\n",
       "      <td>Normal</td>\n",
       "      <td>Drama</td>\n",
       "      <td>10.0</td>\n",
       "      <td>85.0</td>\n",
       "      <td>1064854</td>\n",
       "      <td>7.500000</td>\n",
       "    </tr>\n",
       "    <tr>\n",
       "      <td>5</td>\n",
       "      <td>88</td>\n",
       "      <td>88</td>\n",
       "      <td>2013-06-14</td>\n",
       "      <td>Fukrey</td>\n",
       "      <td>Normal</td>\n",
       "      <td>Comedy</td>\n",
       "      <td>5.0</td>\n",
       "      <td>36.2</td>\n",
       "      <td>227912</td>\n",
       "      <td>6.240000</td>\n",
       "    </tr>\n",
       "    <tr>\n",
       "      <td>6</td>\n",
       "      <td>59</td>\n",
       "      <td>59</td>\n",
       "      <td>2014-09-05</td>\n",
       "      <td>Mary Kom</td>\n",
       "      <td>Normal</td>\n",
       "      <td>Drama</td>\n",
       "      <td>15.0</td>\n",
       "      <td>104.0</td>\n",
       "      <td>6086811</td>\n",
       "      <td>5.933333</td>\n",
       "    </tr>\n",
       "    <tr>\n",
       "      <td>7</td>\n",
       "      <td>129</td>\n",
       "      <td>129</td>\n",
       "      <td>2013-10-18</td>\n",
       "      <td>Shahid</td>\n",
       "      <td>Festive Season</td>\n",
       "      <td>Drama</td>\n",
       "      <td>6.0</td>\n",
       "      <td>40.0</td>\n",
       "      <td>1148516</td>\n",
       "      <td>5.666667</td>\n",
       "    </tr>\n",
       "    <tr>\n",
       "      <td>8</td>\n",
       "      <td>37</td>\n",
       "      <td>38</td>\n",
       "      <td>2014-07-11</td>\n",
       "      <td>Humpty Sharma Ki Dulhania</td>\n",
       "      <td>Normal</td>\n",
       "      <td>RomanceGenre</td>\n",
       "      <td>20.0</td>\n",
       "      <td>130.0</td>\n",
       "      <td>6604595</td>\n",
       "      <td>5.500000</td>\n",
       "    </tr>\n",
       "    <tr>\n",
       "      <td>9</td>\n",
       "      <td>102</td>\n",
       "      <td>102</td>\n",
       "      <td>2013-07-12</td>\n",
       "      <td>Bhaag Milkha Bhaag</td>\n",
       "      <td>Normal</td>\n",
       "      <td>Drama</td>\n",
       "      <td>30.0</td>\n",
       "      <td>164.0</td>\n",
       "      <td>2635390</td>\n",
       "      <td>4.466667</td>\n",
       "    </tr>\n",
       "  </tbody>\n",
       "</table>\n",
       "</div>"
      ],
      "text/plain": [
       "   level_0  index ReleaseDate                  MovieName     ReleaseTime  \\\n",
       "0        3      4  2013-01-04           Rajdhani Express          Normal   \n",
       "1       65     65  2013-04-26                 Aashiqui 2          Normal   \n",
       "2       90     90  2014-12-19                         PK  Holiday Season   \n",
       "3      133    133  2013-09-13                Grand Masti    Long Weekend   \n",
       "4      136    136  2013-09-20               The Lunchbox          Normal   \n",
       "5       88     88  2013-06-14                     Fukrey          Normal   \n",
       "6       59     59  2014-09-05                   Mary Kom          Normal   \n",
       "7      129    129  2013-10-18                     Shahid  Festive Season   \n",
       "8       37     38  2014-07-11  Humpty Sharma Ki Dulhania          Normal   \n",
       "9      102    102  2013-07-12         Bhaag Milkha Bhaag          Normal   \n",
       "\n",
       "          Genre  Budget  BoxOfficeCollection  YoutubeViews        ROI  \n",
       "0    DramaGenre     7.0                383.0         42626  53.714286  \n",
       "1       Romance    12.0                110.0       2926673   8.166667  \n",
       "2        Drama     85.0                735.0      13270623   7.647059  \n",
       "3        Comedy    35.0                298.0       1795640   7.514286  \n",
       "4        Drama     10.0                 85.0       1064854   7.500000  \n",
       "5        Comedy     5.0                 36.2        227912   6.240000  \n",
       "6        Drama     15.0                104.0       6086811   5.933333  \n",
       "7        Drama      6.0                 40.0       1148516   5.666667  \n",
       "8  RomanceGenre    20.0                130.0       6604595   5.500000  \n",
       "9        Drama     30.0                164.0       2635390   4.466667  "
      ]
     },
     "execution_count": 49,
     "metadata": {},
     "output_type": "execute_result"
    }
   ],
   "source": [
    "R_O_I = Return_of_investment.iloc[:10]\n",
    "R_O_I"
   ]
  },
  {
   "cell_type": "markdown",
   "metadata": {},
   "source": [
    "The above dataframe shows the top 10 movoies with the highest return of investment"
   ]
  },
  {
   "cell_type": "code",
   "execution_count": 50,
   "metadata": {},
   "outputs": [
    {
     "data": {
      "text/plain": [
       "0             Rajdhani Express\n",
       "1                   Aashiqui 2\n",
       "2                           PK\n",
       "3                  Grand Masti\n",
       "4                 The Lunchbox\n",
       "5                       Fukrey\n",
       "6                     Mary Kom\n",
       "7                       Shahid\n",
       "8    Humpty Sharma Ki Dulhania\n",
       "9           Bhaag Milkha Bhaag\n",
       "Name: MovieName, dtype: object"
      ]
     },
     "execution_count": 50,
     "metadata": {},
     "output_type": "execute_result"
    }
   ],
   "source": [
    "R_O_I.MovieName"
   ]
  }
 ],
 "metadata": {
  "kernelspec": {
   "display_name": "Python 3",
   "language": "python",
   "name": "python3"
  },
  "language_info": {
   "codemirror_mode": {
    "name": "ipython",
    "version": 3
   },
   "file_extension": ".py",
   "mimetype": "text/x-python",
   "name": "python",
   "nbconvert_exporter": "python",
   "pygments_lexer": "ipython3",
   "version": "3.7.4"
  }
 },
 "nbformat": 4,
 "nbformat_minor": 2
}
